{
  "nbformat": 4,
  "nbformat_minor": 0,
  "metadata": {
    "colab": {
      "provenance": [],
      "authorship_tag": "ABX9TyM2FlPe8GWii2by38HzgBwA",
      "include_colab_link": true
    },
    "kernelspec": {
      "name": "python3",
      "display_name": "Python 3"
    },
    "language_info": {
      "name": "python"
    }
  },
  "cells": [
    {
      "cell_type": "markdown",
      "metadata": {
        "id": "view-in-github",
        "colab_type": "text"
      },
      "source": [
        "<a href=\"https://colab.research.google.com/github/enjelianna/DataMining_MODUL2_Pengenalan-dan-Instalasi-Data-Mining-Tool/blob/main/Untitled2.ipynb\" target=\"_parent\"><img src=\"https://colab.research.google.com/assets/colab-badge.svg\" alt=\"Open In Colab\"/></a>"
      ]
    },
    {
      "cell_type": "code",
      "source": [
        "from sklearn.datasets import load_iris\n",
        "import numpy as np\n",
        "from sklearn import tree\n",
        "\n",
        "iris = load_iris()\n",
        "test_index = [0,50,100]\n",
        "\n",
        "print(iris.feature_names)\n",
        "print(iris.target_names)\n",
        "print(iris.data[0])\n",
        "print(iris.target[0])\n",
        "for i in range(10):\n",
        "  print(\"sample %d: label %s, features %s\" %(i, iris.target[i], iris.data[i]))\n"
      ],
      "metadata": {
        "id": "Xh4WnrX_mG8v",
        "outputId": "f62780b6-48d1-40b2-8bb7-8f99253199bf",
        "colab": {
          "base_uri": "https://localhost:8080/"
        }
      },
      "execution_count": 4,
      "outputs": [
        {
          "output_type": "stream",
          "name": "stdout",
          "text": [
            "['sepal length (cm)', 'sepal width (cm)', 'petal length (cm)', 'petal width (cm)']\n",
            "['setosa' 'versicolor' 'virginica']\n",
            "[5.1 3.5 1.4 0.2]\n",
            "0\n",
            "sample 0: label 0, features [5.1 3.5 1.4 0.2]\n",
            "sample 1: label 0, features [4.9 3.  1.4 0.2]\n",
            "sample 2: label 0, features [4.7 3.2 1.3 0.2]\n",
            "sample 3: label 0, features [4.6 3.1 1.5 0.2]\n",
            "sample 4: label 0, features [5.  3.6 1.4 0.2]\n",
            "sample 5: label 0, features [5.4 3.9 1.7 0.4]\n",
            "sample 6: label 0, features [4.6 3.4 1.4 0.3]\n",
            "sample 7: label 0, features [5.  3.4 1.5 0.2]\n",
            "sample 8: label 0, features [4.4 2.9 1.4 0.2]\n",
            "sample 9: label 0, features [4.9 3.1 1.5 0.1]\n"
          ]
        }
      ]
    }
  ]
}