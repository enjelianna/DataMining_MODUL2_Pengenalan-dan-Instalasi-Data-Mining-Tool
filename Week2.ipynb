{
  "nbformat": 4,
  "nbformat_minor": 0,
  "metadata": {
    "colab": {
      "provenance": [],
      "authorship_tag": "ABX9TyMbOuf6AKSiyc03nim0Cf9o",
      "include_colab_link": true
    },
    "kernelspec": {
      "name": "python3",
      "display_name": "Python 3"
    },
    "language_info": {
      "name": "python"
    }
  },
  "cells": [
    {
      "cell_type": "markdown",
      "metadata": {
        "id": "view-in-github",
        "colab_type": "text"
      },
      "source": [
        "<a href=\"https://colab.research.google.com/github/enjelianna/DataMining_MODUL2_Pengenalan-dan-Instalasi-Data-Mining-Tool/blob/main/Week2.ipynb\" target=\"_parent\"><img src=\"https://colab.research.google.com/assets/colab-badge.svg\" alt=\"Open In Colab\"/></a>"
      ]
    },
    {
      "cell_type": "code",
      "source": [
        "from sklearn.datasets import load_iris\n",
        "import numpy as np\n",
        "from sklearn import tree\n",
        "\n",
        "iris = load_iris()\n",
        "test_index = [0,50,100]\n",
        "\n",
        "print(iris.feature_names)\n",
        "print(iris.target_names)\n",
        "print(iris.data[0])\n",
        "print(iris.target[0])\n",
        "for i in range(10):\n",
        "  print(\"sample %d: label %s, features %s\" %(i, iris.target[i], iris.data[i]))\n",
        "\n"
      ],
      "metadata": {
        "colab": {
          "base_uri": "https://localhost:8080/"
        },
        "id": "Xh4WnrX_mG8v",
        "outputId": "8de20dfa-cda8-454b-ca3e-05753bcde05f"
      },
      "execution_count": 6,
      "outputs": [
        {
          "output_type": "stream",
          "name": "stdout",
          "text": [
            "['sepal length (cm)', 'sepal width (cm)', 'petal length (cm)', 'petal width (cm)']\n",
            "['setosa' 'versicolor' 'virginica']\n",
            "[5.1 3.5 1.4 0.2]\n",
            "0\n",
            "sample 0: label 0, features [5.1 3.5 1.4 0.2]\n",
            "sample 1: label 0, features [4.9 3.  1.4 0.2]\n",
            "sample 2: label 0, features [4.7 3.2 1.3 0.2]\n",
            "sample 3: label 0, features [4.6 3.1 1.5 0.2]\n",
            "sample 4: label 0, features [5.  3.6 1.4 0.2]\n",
            "sample 5: label 0, features [5.4 3.9 1.7 0.4]\n",
            "sample 6: label 0, features [4.6 3.4 1.4 0.3]\n",
            "sample 7: label 0, features [5.  3.4 1.5 0.2]\n",
            "sample 8: label 0, features [4.4 2.9 1.4 0.2]\n",
            "sample 9: label 0, features [4.9 3.1 1.5 0.1]\n"
          ]
        }
      ]
    },
    {
      "cell_type": "code",
      "source": [
        "#training data\n",
        "train_target = np.delete(iris.target, test_index)\n",
        "train_data = np.delete(iris.data, test_index, axis=0)\n",
        "#testing data\n",
        "test_target = iris.target[test_index]\n",
        "test_data = iris.data[test_index]\n",
        "\n",
        "classifier = tree.DecisionTreeClassifier()\n",
        "classifier.fit(train_data, train_target)\n",
        "\n",
        "#cetak label asli\n",
        "print(test_target)\n",
        "#cetak hasil prediksi\n",
        "print(classifier.predict(test_data))\n",
        "\n"
      ],
      "metadata": {
        "id": "W8deHxgOrIP5",
        "outputId": "14538fbb-3474-4618-94b7-34181fea9447",
        "colab": {
          "base_uri": "https://localhost:8080/"
        }
      },
      "execution_count": 9,
      "outputs": [
        {
          "output_type": "stream",
          "name": "stdout",
          "text": [
            "[0 1 2]\n",
            "[0 1 2]\n"
          ]
        }
      ]
    }
  ]
}